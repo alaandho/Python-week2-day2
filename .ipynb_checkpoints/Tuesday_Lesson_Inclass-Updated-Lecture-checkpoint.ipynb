{
 "cells": [
  {
   "cell_type": "markdown",
   "metadata": {},
   "source": [
    "# Functions, Scoping, Data Collections 1 & List Comprehensions"
   ]
  },
  {
   "cell_type": "markdown",
   "metadata": {},
   "source": [
    "## Tasks Today:\n",
    "\n",
    "<i>Monday Additions (or, and ... if statements)</i>\n",
    "\n",
    "1) String Manipulation <br>\n",
    " &nbsp;&nbsp;&nbsp;&nbsp; a) strip() <br>\n",
    " &nbsp;&nbsp;&nbsp;&nbsp; b) title() <br>\n",
    "2) Lists (yesterday's overflow) & Working With Lists <br>\n",
    " &nbsp;&nbsp;&nbsp;&nbsp; a) min() <br>\n",
    " &nbsp;&nbsp;&nbsp;&nbsp; b) max() <br>\n",
    " &nbsp;&nbsp;&nbsp;&nbsp; c) sum() <br>\n",
    " &nbsp;&nbsp;&nbsp;&nbsp; d) sort() <br>\n",
    " &nbsp;&nbsp;&nbsp;&nbsp; e) Copying a List <br>\n",
    " &nbsp;&nbsp;&nbsp;&nbsp; f) 'in' keyword <br>\n",
    " &nbsp;&nbsp;&nbsp;&nbsp; g) 'not in' keyword <br>\n",
    " &nbsp;&nbsp;&nbsp;&nbsp; i) Checking an Empty List <br>\n",
    " &nbsp;&nbsp;&nbsp;&nbsp; j) Removing Instances with a Loop <br>\n",
    "3) List Comprehensions <br>\n",
    "4) Tuples <br>\n",
    " &nbsp;&nbsp;&nbsp;&nbsp; a) sorted() <br>\n",
    "5) Functions <br>\n",
    " &nbsp;&nbsp;&nbsp;&nbsp; a) User-Defined vs. Built-In Functions <br>\n",
    " &nbsp;&nbsp;&nbsp;&nbsp; b) Accepting Parameters <br>\n",
    " &nbsp;&nbsp;&nbsp;&nbsp; c) Default Parameters <br>\n",
    " &nbsp;&nbsp;&nbsp;&nbsp; d) Making an Argument Optional <br>\n",
    " &nbsp;&nbsp;&nbsp;&nbsp; e) Keyword Arguments <br>\n",
    " &nbsp;&nbsp;&nbsp;&nbsp; f) Returning Values <br>\n",
    " &nbsp;&nbsp;&nbsp;&nbsp; g) *args <br>\n",
    " &nbsp;&nbsp;&nbsp;&nbsp; h) Docstring <br>\n",
    " &nbsp;&nbsp;&nbsp;&nbsp; i) Using a User Function in a Loop <br>\n",
    "6) Scope"
   ]
  },
  {
   "cell_type": "markdown",
   "metadata": {},
   "source": [
    "### String Manipulation"
   ]
  },
  {
   "cell_type": "markdown",
   "metadata": {},
   "source": [
    "##### .lstrip()"
   ]
  },
  {
   "cell_type": "code",
   "execution_count": 2,
   "metadata": {},
   "outputs": [
    {
     "name": "stdout",
     "output_type": "stream",
     "text": [
      "John Smith\n"
     ]
    }
   ],
   "source": [
    "# string.lstrip()  #strip any white space or characters\n",
    "\n",
    "name = \"       hJohn Smith\"\n",
    "print(name.lstrip(\" \"\"h\"))   #string #look at left side of the string and remove spaces up to J"
   ]
  },
  {
   "cell_type": "markdown",
   "metadata": {},
   "source": [
    "##### .rstrip()"
   ]
  },
  {
   "cell_type": "code",
   "execution_count": 3,
   "metadata": {},
   "outputs": [
    {
     "name": "stdout",
     "output_type": "stream",
     "text": [
      "Bill Ross\n"
     ]
    }
   ],
   "source": [
    "# string.rstrip()\n",
    "\n",
    "name = \"Bill Ross      th\"   #looking character by character\n",
    "print(name.rstrip(\" \"\"th\")) #anything with string is case sensitive"
   ]
  },
  {
   "cell_type": "markdown",
   "metadata": {},
   "source": [
    "##### .strip()"
   ]
  },
  {
   "cell_type": "code",
   "execution_count": 6,
   "metadata": {},
   "outputs": [
    {
     "name": "stdout",
     "output_type": "stream",
     "text": [
      "John Smi\n"
     ]
    }
   ],
   "source": [
    "# string.strip() #strip each side L&R\n",
    "\n",
    "name = \"     John Smith    th\"  #comes from right and erases from right\n",
    "print(name.strip(\" \"\"th\"))"
   ]
  },
  {
   "cell_type": "markdown",
   "metadata": {},
   "source": [
    "##### .title()"
   ]
  },
  {
   "cell_type": "code",
   "execution_count": 7,
   "metadata": {
    "scrolled": true
   },
   "outputs": [
    {
     "name": "stdout",
     "output_type": "stream",
     "text": [
      "Joe Biden\n"
     ]
    }
   ],
   "source": [
    "# string.title()\n",
    "\n",
    "president = \"joe biden\"\n",
    "print(president.title())\n"
   ]
  },
  {
   "cell_type": "markdown",
   "metadata": {},
   "source": [
    "### String Exercise <br>\n",
    "<p>Strip all white space and capitalize every name in the list given</p>"
   ]
  },
  {
   "cell_type": "code",
   "execution_count": 62,
   "metadata": {},
   "outputs": [
    {
     "name": "stdout",
     "output_type": "stream",
     "text": [
      "Connor\n",
      "Max\n",
      "Evan\n",
      "Jordan\n",
      "['Connor', 'Max', 'Evan', 'Jordan']\n",
      "['Connor', 'Max', 'Evan', 'Jordan']\n"
     ]
    }
   ],
   "source": [
    "names = ['    coNNor', 'max', ' EVan ', 'JORDAN']\n",
    "# HINT: You will need to use a for loop for iteration\n",
    "#outputL ['Connor', 'Max', 'Evan', 'Jordon']\n",
    "\n",
    "for name in names:\n",
    "    print(name.title().strip(\" \"))\n",
    "    \n",
    "#Appending to a new list    \n",
    "new_list = []\n",
    "for name in names:\n",
    "    new_list.append(name.title().strip())\n",
    "print(new_list)\n",
    "\n",
    "#Replacing items in list directly\n",
    "for i in range(len(names)):  #use index to redefine each position\n",
    "    names[i] = names[i].strip().title()\n",
    "print(names)"
   ]
  },
  {
   "cell_type": "markdown",
   "metadata": {},
   "source": [
    "### Lists"
   ]
  },
  {
   "cell_type": "markdown",
   "metadata": {},
   "source": [
    "##### Declaring Lists"
   ]
  },
  {
   "cell_type": "code",
   "execution_count": 162,
   "metadata": {},
   "outputs": [
    {
     "name": "stdout",
     "output_type": "stream",
     "text": [
      "['Max', 'Carrie', 'Kathy', 'Justin', 'Nate', 'Marcus']\n"
     ]
    }
   ],
   "source": [
    "l_1 = [] # Empty List Declaration #Declare list\n",
    "\n",
    "names = ['Max', 'Carrie', 'Kathy', 'Justin', 'Nate', 'Marcus'] #data collection that holds in list form\n",
    "print(names) #zeroth, first, second, thirs\n"
   ]
  },
  {
   "cell_type": "markdown",
   "metadata": {},
   "source": [
    "##### Indexing a List"
   ]
  },
  {
   "cell_type": "code",
   "execution_count": 163,
   "metadata": {},
   "outputs": [
    {
     "name": "stdout",
     "output_type": "stream",
     "text": [
      "Max\n",
      "['Carrie', 'Kathy', 'Justin', 'Nate', 'Marcus']\n",
      "['Max', 'Carrie']\n",
      "['Carrie', 'Justin', 'Marcus']\n",
      "['Marcus', 'Nate', 'Justin', 'Kathy', 'Carrie', 'Max']\n"
     ]
    }
   ],
   "source": [
    "# [start: stop: step] -- [-1]\n",
    "\n",
    "#Single Index\n",
    "print(names[0]) #printing at zeroth position\n",
    "\n",
    "# Print starting at index 1 going to the end\n",
    "print(names[1:])  #stops up to end\n",
    "\n",
    "#Print starting at beginning of list to N (n == the number we want to stop at)\n",
    "print(names[:2])  #stops up to indiex 2\n",
    "\n",
    "# print starting at index 1 going up BY 2 in each iteration\n",
    "print(names[1::2])\n",
    "\n",
    "# print starting at the back and present in reverse order\n",
    "print(names[::-1])\n"
   ]
  },
  {
   "cell_type": "markdown",
   "metadata": {},
   "source": [
    "##### .append()"
   ]
  },
  {
   "cell_type": "code",
   "execution_count": 23,
   "metadata": {},
   "outputs": [
    {
     "name": "stdout",
     "output_type": "stream",
     "text": [
      "['Max', 'Carrie', 'Kathy', 'Justin', 'Nate', 'Marcus']\n",
      "['Max', 'Carrie', 'Kathy', 'Justin', 'Nate', 'Marcus', 'Derek']\n"
     ]
    }
   ],
   "source": [
    "#to add to list\n",
    "\n",
    "print(names)\n",
    "names.append(\"Derek\")\n",
    "print(names)"
   ]
  },
  {
   "cell_type": "markdown",
   "metadata": {},
   "source": [
    "##### .insert()"
   ]
  },
  {
   "cell_type": "code",
   "execution_count": 27,
   "metadata": {},
   "outputs": [
    {
     "name": "stdout",
     "output_type": "stream",
     "text": [
      "['Taty', 'Max', 'Carrie', 'Kathy', 'Taty', 'Justin', 'Nate', 'Marcus', 'Derek']\n"
     ]
    }
   ],
   "source": [
    "# list.insert(index,value)\n",
    "\n",
    "names.insert(0, 'Taty')\n",
    "print(names)"
   ]
  },
  {
   "cell_type": "markdown",
   "metadata": {},
   "source": [
    "##### .pop()"
   ]
  },
  {
   "cell_type": "code",
   "execution_count": 28,
   "metadata": {},
   "outputs": [
    {
     "name": "stdout",
     "output_type": "stream",
     "text": [
      "Derek\n",
      "['Taty', 'Max', 'Carrie', 'Kathy', 'Taty', 'Justin', 'Nate', 'Marcus']\n"
     ]
    }
   ],
   "source": [
    "# default is the last value if no parameter is given\n",
    "# pop returns the element that was removed in case you want to assign it into a variable\n",
    "\n",
    "senior_instructor = names.pop()  #pulling out Ace from deck and placed somewhere else\n",
    "print(senior_instructor)\n",
    "print(names)"
   ]
  },
  {
   "cell_type": "markdown",
   "metadata": {},
   "source": [
    "\n",
    "##### .remove()"
   ]
  },
  {
   "cell_type": "code",
   "execution_count": 32,
   "metadata": {},
   "outputs": [
    {
     "name": "stdout",
     "output_type": "stream",
     "text": [
      "['Taty', 'Max', 'Carrie', 'Kathy', 'Taty', 'Nate', 'Marcus']\n"
     ]
    }
   ],
   "source": [
    "# value to be removed , not index #can be used in list or loop manipulation\n",
    "\n",
    "while 'Justin' in names:\n",
    "    print(names)\n",
    "    names.remove('Justin')\n",
    "    \n",
    "print(names)"
   ]
  },
  {
   "cell_type": "markdown",
   "metadata": {},
   "source": [
    "##### del()"
   ]
  },
  {
   "cell_type": "code",
   "execution_count": 34,
   "metadata": {},
   "outputs": [
    {
     "name": "stdout",
     "output_type": "stream",
     "text": [
      "['Taty', 'Carrie', 'Kathy', 'Taty', 'Nate', 'Marcus']\n"
     ]
    }
   ],
   "source": [
    "# index to be removed, not value\n",
    "# BE CAREFUL with del, can cause indexing errors if not used carefully\n",
    "\n",
    "del(names[1])\n",
    "print(names)"
   ]
  },
  {
   "cell_type": "markdown",
   "metadata": {},
   "source": [
    "##### Reassigning a value by index"
   ]
  },
  {
   "cell_type": "code",
   "execution_count": 41,
   "metadata": {},
   "outputs": [
    {
     "name": "stdout",
     "output_type": "stream",
     "text": [
      "['Tatyana', 'Tatyana', 'Kathy', 'Taty', 'Nate', 'Marcus']\n"
     ]
    }
   ],
   "source": [
    "names[0] = 'Tatyana' #changes value in chosen index\n",
    "print(names)"
   ]
  },
  {
   "cell_type": "markdown",
   "metadata": {},
   "source": [
    "##### Concatenating Two Lists"
   ]
  },
  {
   "cell_type": "code",
   "execution_count": 42,
   "metadata": {},
   "outputs": [
    {
     "name": "stdout",
     "output_type": "stream",
     "text": [
      "[0, 1, 2, 3, 4, 5]\n"
     ]
    }
   ],
   "source": [
    "# will append two lists together, not add up the elements in each list\n",
    "\n",
    "l_2 = [0,1,2]\n",
    "l_3 = [3,4,5]\n",
    "\n",
    "large_list = l_2 + l_3\n",
    "print(large_list)"
   ]
  },
  {
   "cell_type": "markdown",
   "metadata": {},
   "source": [
    "##### Lists Within Lists"
   ]
  },
  {
   "cell_type": "code",
   "execution_count": 46,
   "metadata": {},
   "outputs": [
    {
     "name": "stdout",
     "output_type": "stream",
     "text": [
      "['Max', 'Sam', 'Josh', ['Sally', 'Sue', 'Tameka']]\n",
      "Tameka\n",
      "['Sally', 'Sue', 'Tameka']\n"
     ]
    }
   ],
   "source": [
    "# Lists are able to hold any type of element, including OTHER lists themsevles\n",
    "# they can also go as deep as you want, having many lists nested inside of each other\n",
    "\n",
    "names = [\"Max\", \"Sam\",\"Josh\",[\"Sally\",\"Sue\",\"Tameka\"]] # index, 0,1,2 and 3[Sally, Sue, Tameka]\n",
    "\n",
    "print(names)\n",
    "print(names[3][2])\n",
    "print(names[3])                                                                                            "
   ]
  },
  {
   "cell_type": "markdown",
   "metadata": {},
   "source": [
    "##### Looping Through Lists"
   ]
  },
  {
   "cell_type": "code",
   "execution_count": 56,
   "metadata": {},
   "outputs": [
    {
     "name": "stdout",
     "output_type": "stream",
     "text": [
      "Max\n",
      "Sam\n",
      "Josh\n",
      "['Sally', 'Sue', 'Tameka']\n",
      "Max\n",
      "Sam\n",
      "Josh\n",
      "['Sally', 'Sue', 'Tameka']\n"
     ]
    }
   ],
   "source": [
    "# two ways to loop through a list, one is by index, the other is by using the 'in' keyword\n",
    "\n",
    "# Loop with a for loop (By Index) using range, comparing lists\n",
    "for i in range(len(names)):  # range(len(names))     - range(0,4)\n",
    "    print(names[i])    #range starts at zeroth place and len starts at first\n",
    "    \n",
    "#for i in range(len(names)):\n",
    "    #if names[i] == names_2[i]:\n",
    "        #print('same name')\n",
    "\n",
    "\n",
    "# Loop with a for loop (Using the 'in' keyword)\n",
    "for name in names:\n",
    "    print(name)"
   ]
  },
  {
   "cell_type": "markdown",
   "metadata": {},
   "source": [
    "### Working With Lists"
   ]
  },
  {
   "cell_type": "markdown",
   "metadata": {},
   "source": [
    "##### min()"
   ]
  },
  {
   "cell_type": "code",
   "execution_count": 63,
   "metadata": {},
   "outputs": [
    {
     "name": "stdout",
     "output_type": "stream",
     "text": [
      "1\n"
     ]
    }
   ],
   "source": [
    "# min(list)\n",
    "numbers = [4,2,87,45,16,1,80]\n",
    "\n",
    "print(min(numbers))"
   ]
  },
  {
   "cell_type": "markdown",
   "metadata": {},
   "source": [
    "##### max()"
   ]
  },
  {
   "cell_type": "code",
   "execution_count": 65,
   "metadata": {},
   "outputs": [
    {
     "name": "stdout",
     "output_type": "stream",
     "text": [
      "87\n"
     ]
    }
   ],
   "source": [
    "# max(list)\n",
    "\n",
    "print(max(numbers))"
   ]
  },
  {
   "cell_type": "markdown",
   "metadata": {},
   "source": [
    "##### sum()"
   ]
  },
  {
   "cell_type": "code",
   "execution_count": 66,
   "metadata": {},
   "outputs": [
    {
     "name": "stdout",
     "output_type": "stream",
     "text": [
      "235\n"
     ]
    }
   ],
   "source": [
    "# sum(list)\n",
    "\n",
    "print(sum(numbers))"
   ]
  },
  {
   "cell_type": "markdown",
   "metadata": {},
   "source": [
    "##### sorted()"
   ]
  },
  {
   "cell_type": "code",
   "execution_count": 74,
   "metadata": {},
   "outputs": [
    {
     "name": "stdout",
     "output_type": "stream",
     "text": [
      "[4, 2, 87, 45, 16, 1, 80]\n",
      "Original numbers list: [4, 2, 87, 45, 16, 1, 80]\n",
      "Sorted numbers list: [1, 2, 4, 16, 45, 80, 87]\n",
      "['0', 'Bravo', 'Nate', 'Zebra']\n"
     ]
    }
   ],
   "source": [
    "# sorted(list) #creates new copy of list\n",
    "print(numbers)\n",
    "\n",
    "\n",
    "sorted_numbers = sorted(numbers)\n",
    "print(f'Original numbers list: {numbers}')\n",
    "print(f'Sorted numbers list: {sorted_numbers}')\n",
    "\n",
    "#Alphabetical or ascending\n",
    "print(sorted(['Nate', 'Zebra', 'Bravo', '0']))"
   ]
  },
  {
   "cell_type": "markdown",
   "metadata": {},
   "source": [
    "##### .sort() <br>\n",
    "<p>Difference between sort and sorted, is that sorted doesn't change original list it returns a copy, while .sort changes the original list</p>"
   ]
  },
  {
   "cell_type": "code",
   "execution_count": 76,
   "metadata": {},
   "outputs": [
    {
     "name": "stdout",
     "output_type": "stream",
     "text": [
      "Before sort: [1, 2, 4, 16, 45, 80, 87]\n",
      "After sort: [1, 2, 4, 16, 45, 80, 87]\n"
     ]
    }
   ],
   "source": [
    "# list.sort()\n",
    "\n",
    "print(f'Before sort: {numbers}')\n",
    "numbers.sort()\n",
    "print(f'After sort: {numbers}')\n",
    "\n",
    "# use sorted when you don't want to alter original list, use .sort() when you want to alter original list"
   ]
  },
  {
   "cell_type": "markdown",
   "metadata": {},
   "source": [
    "##### Copying a List"
   ]
  },
  {
   "cell_type": "code",
   "execution_count": 77,
   "metadata": {},
   "outputs": [
    {
     "name": "stdout",
     "output_type": "stream",
     "text": [
      "[1, 2, 4, 16, 45, 80, 87]\n",
      "[1, 2, 4, 16, 45, 80, 87]\n"
     ]
    }
   ],
   "source": [
    "# [:] copies a list, doesn't alter original [:] empty stop and empty start\n",
    "\n",
    "numbers_3 = numbers[:]\n",
    "print(numbers_3)\n",
    "print(numbers)"
   ]
  },
  {
   "cell_type": "markdown",
   "metadata": {},
   "source": [
    "##### 'in' keyword"
   ]
  },
  {
   "cell_type": "code",
   "execution_count": 81,
   "metadata": {},
   "outputs": [
    {
     "name": "stdout",
     "output_type": "stream",
     "text": [
      "Derek is a teacher at CT\n",
      "Name does not includ with \"B\n",
      "Name does not includ with \"B\n",
      "Name does not includ with \"B\n",
      "Name includes \"B\"\n",
      "Name does not includ with \"B\n",
      "Does not start with B\n",
      "Does not start with B\n",
      "Does not start with B\n",
      "This name starts with B \n",
      "Does not start with B\n"
     ]
    }
   ],
   "source": [
    "l_teachers = ['Joel', 'Derek', 'Nate', 'Berlin', 'Sam']\n",
    "if 'Derek' in l_teachers:\n",
    "    print('Derek is a teacher at CT')\n",
    "else:\n",
    "    print('Derek is not a teacher at CT')\n",
    "    \n",
    "    \n",
    "for name in l_teachers:  #name is taking on the value of a string. looking at individual value\n",
    "    if 'B' in name:\n",
    "        print('Name includes \"B\"')\n",
    "    else:\n",
    "        print('Name does not include with \"B')\n",
    "        \n",
    "        \n",
    "for name in l_teachers:\n",
    "    if 'B' in name [0]:  #checking for membership inside list\n",
    "        print('This name starts with B ')\n",
    "    else:\n",
    "        print('Does not start with B')"
   ]
  },
  {
   "cell_type": "markdown",
   "metadata": {},
   "source": [
    "##### 'not in' keyword"
   ]
  },
  {
   "cell_type": "code",
   "execution_count": 82,
   "metadata": {},
   "outputs": [
    {
     "name": "stdout",
     "output_type": "stream",
     "text": [
      "Nicole is not an instructor!\n"
     ]
    }
   ],
   "source": [
    "if 'Nicole' not in l_teachers:\n",
    "    print('Nicole is not an instructor!')"
   ]
  },
  {
   "cell_type": "markdown",
   "metadata": {},
   "source": [
    "##### Checking an Empty List"
   ]
  },
  {
   "cell_type": "code",
   "execution_count": 86,
   "metadata": {},
   "outputs": [
    {
     "name": "stdout",
     "output_type": "stream",
     "text": [
      "empty list\n"
     ]
    }
   ],
   "source": [
    "# if l_1: or if l_1 = []\n",
    "l_2 = []\n",
    "if l_2:\n",
    "    print('it is a list with contents') #if something is in 1_2\n",
    "    \n",
    "if l_2 == []: #checking object type and \n",
    "    print('empty list')\n",
    "    \n",
    "if not l_2:\n",
    "    print('no contents')"
   ]
  },
  {
   "cell_type": "markdown",
   "metadata": {},
   "source": [
    "##### Removing Instances with a Loop"
   ]
  },
  {
   "cell_type": "code",
   "execution_count": 88,
   "metadata": {},
   "outputs": [
    {
     "name": "stdout",
     "output_type": "stream",
     "text": [
      "['Connor', 'Jeff', 'Alex', 'Julia', 'Rob', 'Julia', 'Claire']\n",
      "['Connor', 'Jeff', 'Alex', 'Rob', 'Julia', 'Claire']\n",
      "['Connor', 'Jeff', 'Alex', 'Rob', 'Claire']\n",
      "['Connor', 'Jeff', 'Alex', 'Rob', 'Claire']\n"
     ]
    }
   ],
   "source": [
    "# while, remove\n",
    "names = ['Julia', 'Connor', 'Jeff', 'Alex', 'Julia', 'Rob', 'Julia', 'Claire']\n",
    "\n",
    "while 'Julia' in names:\n",
    "    names.remove('Julia')\n",
    "    print(names)\n",
    "print(names)"
   ]
  },
  {
   "cell_type": "markdown",
   "metadata": {},
   "source": [
    "### List Exercise <br>\n",
    "<p>Remove all duplicates<br><b>Extra: Create a program that will remove any duplicates from a given list</b></p>"
   ]
  },
  {
   "cell_type": "code",
   "execution_count": 101,
   "metadata": {},
   "outputs": [
    {
     "name": "stdout",
     "output_type": "stream",
     "text": [
      "['connor', 'bob', 'evan', 'max', 2, 3, 4, 'kevin']\n",
      "[2, 3, 'max', 4, 'kevin', 'evan', 'bob', 'connor']\n"
     ]
    }
   ],
   "source": [
    "names = ['connor', 'connor', 'bob', 'connor', 'evan', 'max', 'evan', 2, 2, 2, 3, 3, 4, 'bob', 'kevin']\n",
    "# Hint 1: You will need an append\n",
    "# Hint 2: Using an empty list will make life easier\n",
    "\n",
    "names_2 = []\n",
    "\n",
    "for name in names:\n",
    "    if name not in names_2:\n",
    "        names_2.append(name)\n",
    "print(names_2)\n",
    "\n",
    "\n",
    "for i in names:\n",
    "    no_dups_names = list(set(names))\n",
    "print(no_dups_names)"
   ]
  },
  {
   "cell_type": "markdown",
   "metadata": {},
   "source": [
    "### List Comprehensions <br>\n",
    "<p>Creating a quickly generated list to work with<br>*result*  = [*transform*    *iteration*         *filter*     ]</p>"
   ]
  },
  {
   "cell_type": "markdown",
   "metadata": {},
   "source": [
    "##### In a list comprehension we have a few pieces:\n",
    "1. The first is the counter/ variable - IN this the variable is x\n",
    "2. then we have an iterator for the variable\n",
    "3. The finale part of a list comp is called the condition\n",
    "\n",
    "```python\n",
    "    [variable, transform, condition]\n",
    "```"
   ]
  },
  {
   "cell_type": "code",
   "execution_count": 105,
   "metadata": {},
   "outputs": [
    {
     "name": "stdout",
     "output_type": "stream",
     "text": [
      "[0, 1, 2, 3, 4, 5, 6, 7, 8, 9, 10, 11, 12, 13, 14, 15, 16, 17, 18, 19, 20, 21, 22, 23, 24, 25, 26, 27, 28, 29, 30, 31, 32, 33, 34, 35, 36, 37, 38, 39, 40, 41, 42, 43, 44, 45, 46, 47, 48, 49, 50, 51, 52, 53, 54, 55, 56, 57, 58, 59, 60, 61, 62, 63, 64, 65, 66, 67, 68, 69, 70, 71, 72, 73, 74, 75, 76, 77, 78, 79, 80, 81, 82, 83, 84, 85, 86, 87, 88, 89, 90, 91, 92, 93, 94, 95, 96, 97, 98, 99]\n",
      "\n",
      "\n",
      "[0, 1, 2, 3, 4, 5, 6, 7, 8, 9, 10, 11, 12, 13, 14, 15, 16, 17, 18, 19, 20, 21, 22, 23, 24, 25, 26, 27, 28, 29, 30, 31, 32, 33, 34, 35, 36, 37, 38, 39, 40, 41, 42, 43, 44, 45, 46, 47, 48, 49, 50, 51, 52, 53, 54, 55, 56, 57, 58, 59, 60, 61, 62, 63, 64, 65, 66, 67, 68, 69, 70, 71, 72, 73, 74, 75, 76, 77, 78, 79, 80, 81, 82, 83, 84, 85, 86, 87, 88, 89, 90, 91, 92, 93, 94, 95, 96, 97, 98, 99]\n"
     ]
    }
   ],
   "source": [
    "# number comprehension\n",
    "\n",
    "# With a regular for loop #empty loop for range appending to it\n",
    "nums = []\n",
    "\n",
    "for i in range(100):\n",
    "    nums.append(i)\n",
    "print(nums)\n",
    "\n",
    "# IN a list comprehension we have a few pieces:\n",
    "# The first is the counter/ variable - IN this the variable is x\n",
    "# Then we have a transform for the variable \n",
    "# The finale part of a list comp is called the condition\n",
    "\n",
    "print('\\n')\n",
    "#[variable(transformed), iterator, condition]\n",
    "\n",
    "nums_comp = [i for i in range(100)]  #for every i in the range 100 if i is even\n",
    "print(nums_comp)\n",
    "\n",
    "#if i % 2 ==0 if i is even\n"
   ]
  },
  {
   "cell_type": "markdown",
   "metadata": {},
   "source": [
    "There are a few benefits to using List comprehensions. The most obvious would be that we now have shorter code to work with instead of using 3+ lines of code in the for loop variant.\n",
    "\n",
    "Another is an added benefit to memory usage. Since the list's memory is allocated first before adding elements to it, we don't have to resize the list once we add elements to it.\n",
    "\n",
    "Lastly, list comprehensions are considered the \"pythonic\" way to write code by the PEP8 standards (Python Style Guide)"
   ]
  },
  {
   "cell_type": "code",
   "execution_count": 106,
   "metadata": {},
   "outputs": [
    {
     "name": "stdout",
     "output_type": "stream",
     "text": [
      "[0, 1, 4, 9, 16, 25, 36, 49, 64, 81]\n"
     ]
    }
   ],
   "source": [
    "# square number comprehension #pythonic one ligner\n",
    "squares = [x**2 for x in range(10)]\n",
    "print(squares)\n",
    "\n",
    "squares_reg = []\n",
    "for x in range(10):\n",
    "    squares_reg.append(x**2)  #append x**2 inside list\n",
    "print(squares_reg)    "
   ]
  },
  {
   "cell_type": "code",
   "execution_count": 109,
   "metadata": {},
   "outputs": [
    {
     "name": "stdout",
     "output_type": "stream",
     "text": [
      "['C', 'J', 'A', 'R', 'J', 'C']\n",
      "['C', 'J', 'A', 'R', 'J', 'C']\n"
     ]
    }
   ],
   "source": [
    "# string comprehension\n",
    "names = ['Connor', 'Jeff', 'Alex', 'Rob', 'Julia', 'Claire']\n",
    "\n",
    "first_char_comp = [name[0] for name in names]\n",
    "print(first_char_comp)\n",
    "\n",
    "\n",
    "\n",
    "#OG for loop version\n",
    "\n",
    "first_char = []\n",
    "for name in names:\n",
    "    first_char.append(name[0])\n",
    "print(first_char)"
   ]
  },
  {
   "cell_type": "code",
   "execution_count": 111,
   "metadata": {},
   "outputs": [
    {
     "name": "stdout",
     "output_type": "stream",
     "text": [
      "['Connor', 'Claire']\n",
      "['Connor', 'Claire']\n"
     ]
    }
   ],
   "source": [
    "#using the 'if' statement #if always come after for\n",
    "c_names = [first_name for first_name in names if first_name[0] == 'C']\n",
    "print(c_names)\n",
    "\n",
    "#inside empty list [] i want to place in each first name (for loop first name in names) \n",
    "#if that first name with index of zero is equal to C. If that first name passes\n",
    "#place the condition into [first_name]/ place that x into the empty list\n",
    "\n",
    "#OG for loop version\n",
    "c_reg = []\n",
    "for first_name in names:\n",
    "    if first_name[0] == 'C': #if that first name starts with C\n",
    "        c_reg.append(first_name) #append the name\n",
    "print(c_reg)"
   ]
  },
  {
   "cell_type": "code",
   "execution_count": 112,
   "metadata": {},
   "outputs": [
    {
     "name": "stdout",
     "output_type": "stream",
     "text": [
      "['Connor', False, False, False, False, 'Claire']\n"
     ]
    }
   ],
   "source": [
    "#else \n",
    "c_names_2 = [first_name if first_name[0] == 'C' else False for first_name in names]\n",
    "print(c_names_2)"
   ]
  },
  {
   "cell_type": "markdown",
   "metadata": {},
   "source": [
    "### Tuples <br>\n",
    "<p><b>Defined as an immutable list</b></p><br>Seperated by commas using parenthesis"
   ]
  },
  {
   "cell_type": "code",
   "execution_count": 119,
   "metadata": {},
   "outputs": [
    {
     "name": "stdout",
     "output_type": "stream",
     "text": [
      "<class 'tuple'>\n",
      "<class 'tuple'>\n",
      "1\n",
      "1\n",
      "2\n",
      "3\n",
      "1\n",
      "2\n",
      "3\n"
     ]
    }
   ],
   "source": [
    "#immutable list item cannot be changed. tuple list remains unchanging. used in data to stay in tact\n",
    "\n",
    "tup_1 = 1,2,3  #first way to create a tuple\n",
    "tup_2 =(1,2,3)  #another way\n",
    "\n",
    "print(type(tup_1))\n",
    "print(type(tup_2))\n",
    "\n",
    "print(tup_2[0])\n",
    "\n",
    "#tup-1[1] = 50\n",
    "\n",
    "#Looping over a tuple\n",
    "for number in tup_1:\n",
    "    print(number)\n",
    "    \n",
    "#index loops\n",
    "for i in range(len(tup_1)):\n",
    "    print(tup_1[i])"
   ]
  },
  {
   "cell_type": "markdown",
   "metadata": {},
   "source": [
    "##### sorted()"
   ]
  },
  {
   "cell_type": "code",
   "execution_count": 117,
   "metadata": {},
   "outputs": [
    {
     "name": "stdout",
     "output_type": "stream",
     "text": [
      "(1, 3, 5, 9, 20, 45)\n"
     ]
    }
   ],
   "source": [
    "#sorted() changes tuple into new variable. cannot use .sorted \n",
    "tup_3 = (20,5,1,3,9,45)\n",
    "\n",
    "sorted_tup = tuple(sorted(tup_3)) #sorted turns into list and sorting. wrapping in tuple to change back into tuple\n",
    "print(sorted_tup)"
   ]
  },
  {
   "cell_type": "markdown",
   "metadata": {},
   "source": [
    "##### Adding values to a Tuple"
   ]
  },
  {
   "cell_type": "code",
   "execution_count": 118,
   "metadata": {},
   "outputs": [
    {
     "name": "stdout",
     "output_type": "stream",
     "text": [
      "(1, 2, 3)\n",
      "(1, 2, 3, 5)\n"
     ]
    }
   ],
   "source": [
    "print(tup_1) #cannot remove anything from tuple list but can sort/overwrite by + (_,)\n",
    "\n",
    "tup_1 = tup_1 + (5,) #5, allows to add as a tuple instead of math number. overwrite with something new\n",
    "print(tup_1)"
   ]
  },
  {
   "cell_type": "markdown",
   "metadata": {},
   "source": [
    "## Functions"
   ]
  },
  {
   "cell_type": "markdown",
   "metadata": {},
   "source": [
    "##### User-Defined vs. Built-In Functions"
   ]
  },
  {
   "cell_type": "code",
   "execution_count": 121,
   "metadata": {},
   "outputs": [
    {
     "name": "stdout",
     "output_type": "stream",
     "text": [
      "Hello World!\n",
      "<function helloWorld at 0x7fd424949790>\n"
     ]
    }
   ],
   "source": [
    "#out of the box with python or built in with python\n",
    "\n",
    "#user defined function\n",
    "def helloWorld():\n",
    "    return 'Hello World!'\n",
    "\n",
    "#calling a function\n",
    "\n",
    "print(helloWorld()) #invoke function ()\n",
    "\n",
    "# Showing the function in memory #without invoking \n",
    "print(helloWorld)"
   ]
  },
  {
   "cell_type": "markdown",
   "metadata": {},
   "source": [
    "##### Accepting Parameters"
   ]
  },
  {
   "cell_type": "code",
   "execution_count": 122,
   "metadata": {},
   "outputs": [
    {
     "name": "stdout",
     "output_type": "stream",
     "text": [
      "Hello Nate Welter!\n",
      "Hello Welter Nate!\n"
     ]
    }
   ],
   "source": [
    "# order matters\n",
    "# a variable - place holder until you pass something in. writing with specific object/s in mind\n",
    "\n",
    "def printFullName(first, last): #accept two parameter. This function takes in name of first and last\n",
    "    return f'Hello {first} {last}!'\n",
    "\n",
    "print(printFullName('Nate', 'Welter'))\n",
    "print(printFullName('Welter', 'Nate'))\n",
    "\n",
    "print(printFullName(last='Welter, first='Nate'))\n",
    "\n",
    "    "
   ]
  },
  {
   "cell_type": "markdown",
   "metadata": {},
   "source": [
    "##### Default Parameters"
   ]
  },
  {
   "cell_type": "code",
   "execution_count": 124,
   "metadata": {},
   "outputs": [
    {
     "name": "stdout",
     "output_type": "stream",
     "text": [
      "The name is...James Bond\n",
      "The name is...James Temple\n"
     ]
    }
   ],
   "source": [
    "# Defualt params must come after non-default params in definiton at all times\n",
    "\n",
    "def printAgentName(first, last='Bond'):\n",
    "    return f'The name is...{first} {last}'\n",
    "print(printAgentName('James'))\n",
    "\n",
    "print(printAgentName('James', 'Temple'))"
   ]
  },
  {
   "cell_type": "markdown",
   "metadata": {},
   "source": [
    "##### Making an Argument Optional"
   ]
  },
  {
   "cell_type": "code",
   "execution_count": 127,
   "metadata": {},
   "outputs": [
    {
     "name": "stdout",
     "output_type": "stream",
     "text": [
      "Hello Mr. Ed Welter\n"
     ]
    }
   ],
   "source": [
    "def printHorseName(first, middle='', last='Ed'):\n",
    "    return f'Hello {first} {middle}{last}'\n",
    "print(printHorseName('Mr.', 'Ed ', 'Welter'))"
   ]
  },
  {
   "cell_type": "markdown",
   "metadata": {},
   "source": [
    "##### Keyword Arguments"
   ]
  },
  {
   "cell_type": "code",
   "execution_count": null,
   "metadata": {},
   "outputs": [],
   "source": [
    "# last_name='Max', first_name='Smith' in the function call\n",
    "\n",
    "# see above"
   ]
  },
  {
   "cell_type": "markdown",
   "metadata": {},
   "source": [
    "# Creating a start, stop, step function"
   ]
  },
  {
   "cell_type": "code",
   "execution_count": 134,
   "metadata": {},
   "outputs": [
    {
     "name": "stdout",
     "output_type": "stream",
     "text": [
      "1\n",
      "2\n",
      "3\n",
      "4\n",
      "5\n",
      "6\n",
      "7\n",
      "8\n",
      "9\n",
      "10\n",
      "11\n",
      "12\n",
      "13\n",
      "14\n",
      "15\n",
      "16\n",
      "17\n",
      "18\n",
      "19\n"
     ]
    }
   ],
   "source": [
    "def my_range(stop, start=0, step=1): #there is always a stop and assume start and step\n",
    "    for i in range(start,stop,step):  #for loop\n",
    "        print(i)\n",
    "\n",
    "my_range(20,1)"
   ]
  },
  {
   "cell_type": "markdown",
   "metadata": {},
   "source": [
    "##### Returning Values"
   ]
  },
  {
   "cell_type": "code",
   "execution_count": 136,
   "metadata": {},
   "outputs": [],
   "source": [
    "#retun differs from print\n",
    "\n",
    "def addNums(num1, num2):\n",
    "    return num1 + num2\n",
    "addition = addNums(5,4)\n",
    "print(addition)"
   ]
  },
  {
   "cell_type": "markdown",
   "metadata": {},
   "source": [
    "##### *args / **kwargs (AKA KeyWord Args)"
   ]
  },
  {
   "cell_type": "code",
   "execution_count": 140,
   "metadata": {},
   "outputs": [
    {
     "name": "stdout",
     "output_type": "stream",
     "text": [
      "12\n",
      "('DragonZord', 'vanilla', 2, 3)\n",
      "{'name': 'Nate', 'testing': 123}\n",
      "DragonZord\n",
      "vanilla\n",
      "2\n",
      "3\n"
     ]
    }
   ],
   "source": [
    "# arg stands for arguments. takes in ANY amount as Paramaters\n",
    "# must be last if multiple parameters are present \n",
    "\n",
    "def printArgs(num1, *args, **kwargs):\n",
    "    print(num1)\n",
    "    print(args)\n",
    "    print(kwargs)\n",
    "    \n",
    "    for arg in args:    #for loop\n",
    "        print(arg)\n",
    "    \n",
    "printArgs(12, 'DragonZord', 'vanilla', 2, 3, name='Nate', testing = 123)"
   ]
  },
  {
   "cell_type": "markdown",
   "metadata": {},
   "source": [
    "##### Docstring"
   ]
  },
  {
   "cell_type": "code",
   "execution_count": 142,
   "metadata": {},
   "outputs": [
    {
     "name": "stdout",
     "output_type": "stream",
     "text": [
      "Nate\n",
      "Jonathan\n",
      "Marcus\n",
      "Help on function printNames in module __main__:\n",
      "\n",
      "printNames(list_1)\n",
      "    \"\"\n",
      "    printNames(list_1)\n",
      "    Function requires a list to be passed as an argument\n",
      "    and will print the contents of the list. Ecpecting\n",
      "    a list of names(strings) to be passed in.\n",
      "\n"
     ]
    }
   ],
   "source": [
    "def printNames(list_1):\n",
    "    \"\"\"\"\"\n",
    "        printNames(list_1)\n",
    "        Function requires a list to be passed as an argument\n",
    "        and will print the contents of the list. Ecpecting\n",
    "        a list of names(strings) to be passed in. \n",
    "    \"\"\"\"\"\n",
    "    for name in list_1:\n",
    "        print(name)\n",
    "printNames(['Nate', 'Jonathan', 'Marcus'])\n",
    "\n",
    "help(printNames)"
   ]
  },
  {
   "cell_type": "markdown",
   "metadata": {},
   "source": [
    "##### Using a User Function in a Loop"
   ]
  },
  {
   "cell_type": "code",
   "execution_count": 144,
   "metadata": {},
   "outputs": [
    {
     "name": "stdout",
     "output_type": "stream",
     "text": [
      "What do you want to do?play\n",
      "play\n",
      "Ready to quit??? Y/Ny\n"
     ]
    }
   ],
   "source": [
    "def printInput(answer):\n",
    "    print(answer)\n",
    "\n",
    "while True: #to run indefinitely\n",
    "    ask = input('What do you want to do?')\n",
    "    printInput(ask)\n",
    "    \n",
    "    response = input('Ready to quit??? Y/N')\n",
    "    if response.lower() == 'y':\n",
    "        break"
   ]
  },
  {
   "cell_type": "markdown",
   "metadata": {},
   "source": [
    "## Function Exercise <br>\n",
    "<p>Write a function that loops through a list of first_names and a list of last_names, combines the two and return a list of full_names</p>"
   ]
  },
  {
   "cell_type": "code",
   "execution_count": 154,
   "metadata": {},
   "outputs": [
    {
     "data": {
      "text/plain": [
       "['John Smith', 'Evan Smith', 'Jordan Williams', 'Max Bell']"
      ]
     },
     "execution_count": 154,
     "metadata": {},
     "output_type": "execute_result"
    }
   ],
   "source": [
    "first_name = ['John', 'Evan', 'Jordan', 'Max']\n",
    "last_name = ['Smith', 'Smith', 'Williams', 'Bell']\n",
    "\n",
    "# Output: ['John Smith', 'Evan Smith', 'Jordan Williams', 'Max Bell']\n",
    "\n",
    "def fullNames(first_list, last_list):\n",
    "    new_list = []\n",
    "    for i in range(len(first_list)):\n",
    "        new_list.append(first_list[i] + ' ' + last_list[i])\n",
    "    return new_list\n",
    "fullNames(first_name, last_name)"
   ]
  },
  {
   "cell_type": "markdown",
   "metadata": {},
   "source": [
    "## Scope <br>\n",
    "<p>Scope refers to the ability to access variables, different types of scope include:<br>a) Global<br>b) Function (local)<br>c) Class (local)</p>"
   ]
  },
  {
   "cell_type": "code",
   "execution_count": 148,
   "metadata": {},
   "outputs": [
    {
     "name": "stdout",
     "output_type": "stream",
     "text": [
      "6\n",
      "nate\n",
      "marcus\n",
      "jake\n",
      "jake\n"
     ]
    }
   ],
   "source": [
    "# placement of variable declaration matters\n",
    "number = 3 #global variable\n",
    "\n",
    "def myFunc():\n",
    "    num_3 = 6 #Local Function Variable have no access to num - had to rename\n",
    "    return num_3\n",
    "\n",
    "#print(num_3) - causes error bc variable is local to fucntion\n",
    "\n",
    "return_num = myFunc()\n",
    "print(return_num)\n",
    "\n",
    "#Global vars in for loop\n",
    "names = ['nate', 'marcus', 'jake']\n",
    "for name in names:\n",
    "    print(name)\n",
    "print(name)"
   ]
  },
  {
   "cell_type": "markdown",
   "metadata": {},
   "source": [
    "# Exercises"
   ]
  },
  {
   "cell_type": "markdown",
   "metadata": {},
   "source": [
    "## Exercise 1 <br>\n",
    "<p>Given a list as a parameter,write a function that returns a list of numbers that are less than ten</b></i></p><br>\n",
    "<p> For example: Say your input parameter to the function is [1,11,14,5,8,9]...Your output should [1,5,8,9]</p>"
   ]
  },
  {
   "cell_type": "code",
   "execution_count": 184,
   "metadata": {},
   "outputs": [
    {
     "data": {
      "text/plain": [
       "[1, 5, 8, 9]"
      ]
     },
     "execution_count": 184,
     "metadata": {},
     "output_type": "execute_result"
    }
   ],
   "source": [
    "# Use the following list - [1,11,14,5,8,9]\n",
    "\n",
    "l_1 = [1,11,14,5,8,9]\n",
    "l_1[1:3] = []\n",
    "l_1"
   ]
  },
  {
   "cell_type": "markdown",
   "metadata": {},
   "source": [
    "## Exercise 2 <br>\n",
    "<p>Write a function that takes in two lists and returns the two lists merged together and sorted<br>\n",
    "<b><i>Hint: You can use the .sort() method</i></b></p>"
   ]
  },
  {
   "cell_type": "code",
   "execution_count": 188,
   "metadata": {},
   "outputs": [
    {
     "name": "stdout",
     "output_type": "stream",
     "text": [
      "[1, 2, 3, 3, 4, 4, 5, 5, 6, 6, 7, 8, 10]\n"
     ]
    }
   ],
   "source": [
    "l_1 = [1,2,3,4,5,6]\n",
    "l_2 = [3,4,5,6,7,8,10]\n",
    "l_3 = [1,2,444]\n",
    "l_4 = [1,3,6]\n",
    "\n",
    "def fullList(list_1, list_2):\n",
    "    new_list = sorted(list_1 + list_2)\n",
    "    return new_list\n",
    "print(fullList(l_1, l_2))"
   ]
  },
  {
   "cell_type": "code",
   "execution_count": null,
   "metadata": {},
   "outputs": [],
   "source": [
    "#write a function that takes a list and a string\n",
    "def function(str, a_list)"
   ]
  }
 ],
 "metadata": {
  "kernelspec": {
   "display_name": "Python 3",
   "language": "python",
   "name": "python3"
  },
  "language_info": {
   "codemirror_mode": {
    "name": "ipython",
    "version": 3
   },
   "file_extension": ".py",
   "mimetype": "text/x-python",
   "name": "python",
   "nbconvert_exporter": "python",
   "pygments_lexer": "ipython3",
   "version": "3.8.8"
  }
 },
 "nbformat": 4,
 "nbformat_minor": 2
}
